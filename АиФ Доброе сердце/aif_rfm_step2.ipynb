{
 "cells": [
  {
   "cell_type": "markdown",
   "id": "ad9c5756",
   "metadata": {
    "id": "ad9c5756"
   },
   "source": [
    "# АиФ \"Доброе сердце\"\n",
    "Часть 2"
   ]
  },
  {
   "cell_type": "markdown",
   "metadata": {},
   "source": [
    "Сегментирование пользователей: RFM-анализ, описание сегментов;"
   ]
  },
  {
   "cell_type": "markdown",
   "id": "a6b339fc",
   "metadata": {
    "id": "a6b339fc"
   },
   "source": [
    "## Загрузка данных"
   ]
  },
  {
   "cell_type": "markdown",
   "id": "39bca470",
   "metadata": {
    "id": "39bca470"
   },
   "source": [
    "### Импорт библиотек"
   ]
  },
  {
   "cell_type": "code",
   "execution_count": 1,
   "metadata": {},
   "outputs": [],
   "source": [
    "import pandas as pd\n",
    "pd.set_option('display.max_columns', None)\n",
    "\n",
    "import plotly.express as px\n",
    "import seaborn as sns\n",
    "from datetime import datetime, timedelta\n",
    "\n",
    "import numpy as np\n",
    "import math as mth\n",
    "import matplotlib.pyplot as plt\n",
    "import seaborn as sns\n",
    "from datetime import datetime, timedelta\n",
    "import scipy.stats as st\n",
    "from plotly import graph_objects as go\n",
    "import plotly.express as px\n",
    "import warnings\n",
    "warnings.filterwarnings('ignore')\n",
    "\n"
   ]
  },
  {
   "cell_type": "markdown",
   "metadata": {},
   "source": [
    "### order"
   ]
  },
  {
   "cell_type": "code",
   "execution_count": 2,
   "metadata": {},
   "outputs": [
    {
     "data": {
      "text/html": [
       "<div>\n",
       "<style scoped>\n",
       "    .dataframe tbody tr th:only-of-type {\n",
       "        vertical-align: middle;\n",
       "    }\n",
       "\n",
       "    .dataframe tbody tr th {\n",
       "        vertical-align: top;\n",
       "    }\n",
       "\n",
       "    .dataframe thead th {\n",
       "        text-align: right;\n",
       "    }\n",
       "</style>\n",
       "<table border=\"1\" class=\"dataframe\">\n",
       "  <thead>\n",
       "    <tr style=\"text-align: right;\">\n",
       "      <th></th>\n",
       "      <th>Unnamed: 0</th>\n",
       "      <th>action_id</th>\n",
       "      <th>ordering_datetime</th>\n",
       "      <th>in_touch_point_id</th>\n",
       "      <th>ext_touch_point_id</th>\n",
       "      <th>new_year_promotion</th>\n",
       "      <th>next_pay_date</th>\n",
       "      <th>recurrent</th>\n",
       "      <th>repayment</th>\n",
       "      <th>product_id</th>\n",
       "      <th>product_name</th>\n",
       "      <th>price</th>\n",
       "      <th>status</th>\n",
       "      <th>mindbox_id</th>\n",
       "      <th>time</th>\n",
       "      <th>year</th>\n",
       "      <th>month</th>\n",
       "      <th>day</th>\n",
       "      <th>hour</th>\n",
       "    </tr>\n",
       "  </thead>\n",
       "  <tbody>\n",
       "    <tr>\n",
       "      <th>0</th>\n",
       "      <td>0</td>\n",
       "      <td>57400</td>\n",
       "      <td>2022-01-27 03:00:00</td>\n",
       "      <td>1</td>\n",
       "      <td>Administrator</td>\n",
       "      <td>False</td>\n",
       "      <td>NaN</td>\n",
       "      <td>NaN</td>\n",
       "      <td>NaN</td>\n",
       "      <td>9847</td>\n",
       "      <td>Никита Суриков</td>\n",
       "      <td>500</td>\n",
       "      <td>Paid</td>\n",
       "      <td>6959</td>\n",
       "      <td>3</td>\n",
       "      <td>2022</td>\n",
       "      <td>1</td>\n",
       "      <td>27</td>\n",
       "      <td>3</td>\n",
       "    </tr>\n",
       "    <tr>\n",
       "      <th>1</th>\n",
       "      <td>1</td>\n",
       "      <td>57577</td>\n",
       "      <td>2022-01-29 03:00:00</td>\n",
       "      <td>1</td>\n",
       "      <td>Administrator</td>\n",
       "      <td>False</td>\n",
       "      <td>NaN</td>\n",
       "      <td>NaN</td>\n",
       "      <td>NaN</td>\n",
       "      <td>9847</td>\n",
       "      <td>Никита Суриков</td>\n",
       "      <td>200</td>\n",
       "      <td>Paid</td>\n",
       "      <td>7103</td>\n",
       "      <td>3</td>\n",
       "      <td>2022</td>\n",
       "      <td>1</td>\n",
       "      <td>29</td>\n",
       "      <td>3</td>\n",
       "    </tr>\n",
       "    <tr>\n",
       "      <th>2</th>\n",
       "      <td>2</td>\n",
       "      <td>57807</td>\n",
       "      <td>2022-01-31 03:00:00</td>\n",
       "      <td>1</td>\n",
       "      <td>Administrator</td>\n",
       "      <td>False</td>\n",
       "      <td>NaN</td>\n",
       "      <td>NaN</td>\n",
       "      <td>NaN</td>\n",
       "      <td>9847</td>\n",
       "      <td>Никита Суриков</td>\n",
       "      <td>300</td>\n",
       "      <td>Paid</td>\n",
       "      <td>7321</td>\n",
       "      <td>3</td>\n",
       "      <td>2022</td>\n",
       "      <td>1</td>\n",
       "      <td>31</td>\n",
       "      <td>3</td>\n",
       "    </tr>\n",
       "    <tr>\n",
       "      <th>3</th>\n",
       "      <td>3</td>\n",
       "      <td>57933</td>\n",
       "      <td>2022-02-06 03:00:00</td>\n",
       "      <td>1</td>\n",
       "      <td>Administrator</td>\n",
       "      <td>False</td>\n",
       "      <td>NaN</td>\n",
       "      <td>NaN</td>\n",
       "      <td>NaN</td>\n",
       "      <td>9847</td>\n",
       "      <td>Никита Суриков</td>\n",
       "      <td>300</td>\n",
       "      <td>Paid</td>\n",
       "      <td>7143</td>\n",
       "      <td>3</td>\n",
       "      <td>2022</td>\n",
       "      <td>2</td>\n",
       "      <td>6</td>\n",
       "      <td>3</td>\n",
       "    </tr>\n",
       "    <tr>\n",
       "      <th>4</th>\n",
       "      <td>4</td>\n",
       "      <td>59062</td>\n",
       "      <td>2022-02-28 03:00:00</td>\n",
       "      <td>1</td>\n",
       "      <td>Administrator</td>\n",
       "      <td>False</td>\n",
       "      <td>NaN</td>\n",
       "      <td>NaN</td>\n",
       "      <td>NaN</td>\n",
       "      <td>1</td>\n",
       "      <td>На уставную деятельность</td>\n",
       "      <td>50</td>\n",
       "      <td>Paid</td>\n",
       "      <td>7079</td>\n",
       "      <td>3</td>\n",
       "      <td>2022</td>\n",
       "      <td>2</td>\n",
       "      <td>28</td>\n",
       "      <td>3</td>\n",
       "    </tr>\n",
       "  </tbody>\n",
       "</table>\n",
       "</div>"
      ],
      "text/plain": [
       "   Unnamed: 0  action_id    ordering_datetime  in_touch_point_id  \\\n",
       "0           0      57400  2022-01-27 03:00:00                  1   \n",
       "1           1      57577  2022-01-29 03:00:00                  1   \n",
       "2           2      57807  2022-01-31 03:00:00                  1   \n",
       "3           3      57933  2022-02-06 03:00:00                  1   \n",
       "4           4      59062  2022-02-28 03:00:00                  1   \n",
       "\n",
       "  ext_touch_point_id  new_year_promotion  next_pay_date recurrent repayment  \\\n",
       "0      Administrator               False            NaN       NaN       NaN   \n",
       "1      Administrator               False            NaN       NaN       NaN   \n",
       "2      Administrator               False            NaN       NaN       NaN   \n",
       "3      Administrator               False            NaN       NaN       NaN   \n",
       "4      Administrator               False            NaN       NaN       NaN   \n",
       "\n",
       "  product_id              product_name  price status  mindbox_id  time  year  \\\n",
       "0       9847            Никита Суриков    500   Paid        6959     3  2022   \n",
       "1       9847            Никита Суриков    200   Paid        7103     3  2022   \n",
       "2       9847            Никита Суриков    300   Paid        7321     3  2022   \n",
       "3       9847            Никита Суриков    300   Paid        7143     3  2022   \n",
       "4          1  На уставную деятельность     50   Paid        7079     3  2022   \n",
       "\n",
       "   month  day  hour  \n",
       "0      1   27     3  \n",
       "1      1   29     3  \n",
       "2      1   31     3  \n",
       "3      2    6     3  \n",
       "4      2   28     3  "
      ]
     },
     "execution_count": 2,
     "metadata": {},
     "output_type": "execute_result"
    }
   ],
   "source": [
    "order = pd.read_csv('order_step1.csv')\n",
    "order = order[order['status'] == 'Paid']\n",
    "order.head()"
   ]
  },
  {
   "cell_type": "code",
   "execution_count": 3,
   "metadata": {},
   "outputs": [],
   "source": [
    "order['ordering_datetime'] = pd.to_datetime(\n",
    "    order['ordering_datetime'], format='%Y-%m-%d')"
   ]
  },
  {
   "cell_type": "code",
   "execution_count": 4,
   "metadata": {},
   "outputs": [
    {
     "data": {
      "text/plain": [
       "18721"
      ]
     },
     "execution_count": 4,
     "metadata": {},
     "output_type": "execute_result"
    }
   ],
   "source": [
    "users = len(order['mindbox_id'].unique())\n",
    "users"
   ]
  },
  {
   "cell_type": "code",
   "execution_count": 5,
   "metadata": {},
   "outputs": [
    {
     "data": {
      "text/plain": [
       "39014804"
      ]
     },
     "execution_count": 5,
     "metadata": {},
     "output_type": "execute_result"
    }
   ],
   "source": [
    "prices = order['price'].sum()\n",
    "prices"
   ]
  },
  {
   "cell_type": "markdown",
   "id": "0437a874",
   "metadata": {
    "id": "0437a874"
   },
   "source": [
    "## RFM"
   ]
  },
  {
   "cell_type": "markdown",
   "id": "300073e2",
   "metadata": {},
   "source": [
    "По каждому покупателю выделяем информацию для анализа:\n",
    "\n",
    "— как давно была последняя покупка (Recency);\n",
    "\n",
    "— сколько всего было покупок всего (Frequency);\n",
    "\n",
    "— сумма всех покупок (Monetary)."
   ]
  },
  {
   "cell_type": "code",
   "execution_count": 6,
   "id": "e8eeb4e6",
   "metadata": {},
   "outputs": [
    {
     "data": {
      "text/plain": [
       "datetime.date(2024, 3, 19)"
      ]
     },
     "execution_count": 6,
     "metadata": {},
     "output_type": "execute_result"
    }
   ],
   "source": [
    "# Устанавливаем отчетную дату на +1 день к финальной дате датасета\n",
    "now = order.ordering_datetime.dt.date.max() + pd.Timedelta('1d')\n",
    "now"
   ]
  },
  {
   "cell_type": "code",
   "execution_count": 7,
   "id": "13ac04c6",
   "metadata": {},
   "outputs": [],
   "source": [
    "order['ordering_date'] = order['ordering_datetime'].dt.date"
   ]
  },
  {
   "cell_type": "code",
   "execution_count": 8,
   "id": "fb25da57",
   "metadata": {
    "id": "fb25da57",
    "scrolled": true
   },
   "outputs": [
    {
     "data": {
      "text/html": [
       "<div>\n",
       "<style scoped>\n",
       "    .dataframe tbody tr th:only-of-type {\n",
       "        vertical-align: middle;\n",
       "    }\n",
       "\n",
       "    .dataframe tbody tr th {\n",
       "        vertical-align: top;\n",
       "    }\n",
       "\n",
       "    .dataframe thead th {\n",
       "        text-align: right;\n",
       "    }\n",
       "</style>\n",
       "<table border=\"1\" class=\"dataframe\">\n",
       "  <thead>\n",
       "    <tr style=\"text-align: right;\">\n",
       "      <th></th>\n",
       "      <th>last_date</th>\n",
       "      <th>total_orders</th>\n",
       "      <th>total_sum</th>\n",
       "    </tr>\n",
       "    <tr>\n",
       "      <th>mindbox_id</th>\n",
       "      <th></th>\n",
       "      <th></th>\n",
       "      <th></th>\n",
       "    </tr>\n",
       "  </thead>\n",
       "  <tbody>\n",
       "    <tr>\n",
       "      <th>2734</th>\n",
       "      <td>2021-10-14</td>\n",
       "      <td>2</td>\n",
       "      <td>51</td>\n",
       "    </tr>\n",
       "    <tr>\n",
       "      <th>2847</th>\n",
       "      <td>2023-12-15</td>\n",
       "      <td>3</td>\n",
       "      <td>1000</td>\n",
       "    </tr>\n",
       "    <tr>\n",
       "      <th>2861</th>\n",
       "      <td>2022-12-07</td>\n",
       "      <td>7</td>\n",
       "      <td>120</td>\n",
       "    </tr>\n",
       "    <tr>\n",
       "      <th>3361</th>\n",
       "      <td>2022-12-20</td>\n",
       "      <td>1</td>\n",
       "      <td>3000</td>\n",
       "    </tr>\n",
       "    <tr>\n",
       "      <th>4982</th>\n",
       "      <td>2024-02-13</td>\n",
       "      <td>11</td>\n",
       "      <td>840</td>\n",
       "    </tr>\n",
       "  </tbody>\n",
       "</table>\n",
       "</div>"
      ],
      "text/plain": [
       "             last_date  total_orders  total_sum\n",
       "mindbox_id                                     \n",
       "2734        2021-10-14             2         51\n",
       "2847        2023-12-15             3       1000\n",
       "2861        2022-12-07             7        120\n",
       "3361        2022-12-20             1       3000\n",
       "4982        2024-02-13            11        840"
      ]
     },
     "execution_count": 8,
     "metadata": {},
     "output_type": "execute_result"
    }
   ],
   "source": [
    "rfm = order.groupby('mindbox_id').agg({'ordering_date': ['max', 'count'], 'price': 'sum'})\n",
    "rfm.columns = ['last_date', 'total_orders', 'total_sum']\n",
    "rfm.head()"
   ]
  },
  {
   "cell_type": "markdown",
   "id": "b94c3c36",
   "metadata": {},
   "source": [
    "### Recency\n",
    "- как давно была последняя покупка\n",
    "- Давность заказа: 1 — давние, 2 — «спящие», 3 — недавние;"
   ]
  },
  {
   "cell_type": "code",
   "execution_count": 9,
   "id": "fe3c66a5",
   "metadata": {},
   "outputs": [],
   "source": [
    "# рассчет по тому как давно заходили последний раз в днях\n",
    "rfm['days_inactive'] = (now - rfm['last_date'])"
   ]
  },
  {
   "cell_type": "code",
   "execution_count": 10,
   "id": "15c53096",
   "metadata": {},
   "outputs": [],
   "source": [
    "rfm['R'] = pd.qcut(rfm['days_inactive'], 3, labels=[3, 2, 1])"
   ]
  },
  {
   "cell_type": "code",
   "execution_count": 11,
   "id": "831a1d6a",
   "metadata": {},
   "outputs": [
    {
     "name": "stdout",
     "output_type": "stream",
     "text": [
      "1:572 days 00:00:00 - 1173 days 00:00:00\n",
      "2:170 days 00:00:00 - 571 days 00:00:00\n",
      "3:1 days 00:00:00 - 169 days 00:00:00\n"
     ]
    }
   ],
   "source": [
    "print(f'1:{rfm[rfm[\"R\"] == 1][\"days_inactive\"].min()} - {rfm[rfm[\"R\"] == 1][\"days_inactive\"].max()}')\n",
    "print(f'2:{rfm[rfm[\"R\"] == 2][\"days_inactive\"].min()} - {rfm[rfm[\"R\"] == 2][\"days_inactive\"].max()}')\n",
    "print(f'3:{rfm[rfm[\"R\"] == 3][\"days_inactive\"].min()} - {rfm[rfm[\"R\"] == 3][\"days_inactive\"].max()}')"
   ]
  },
  {
   "cell_type": "markdown",
   "id": "c76084b4",
   "metadata": {},
   "source": [
    "### Frequency\n",
    "- сколько всего было покупок всего\n",
    "- Частота покупок: 1 — разовые, 2 — редкие, 3 — частые;"
   ]
  },
  {
   "cell_type": "code",
   "execution_count": 12,
   "id": "d58735f5",
   "metadata": {
    "scrolled": true
   },
   "outputs": [
    {
     "data": {
      "text/plain": [
       "[(16.333, 12916.0], (2.0, 16.333], (0.999, 2.0]]\n",
       "Categories (3, interval[float64, right]): [(0.999, 2.0] < (2.0, 16.333] < (16.333, 12916.0]]"
      ]
     },
     "execution_count": 12,
     "metadata": {},
     "output_type": "execute_result"
    }
   ],
   "source": [
    "pd.qcut(rfm['total_orders'].value_counts(), 3).unique()"
   ]
  },
  {
   "cell_type": "code",
   "execution_count": 13,
   "id": "909d450a",
   "metadata": {},
   "outputs": [],
   "source": [
    "bins = [0.999, 2.0, 16.0, 12745.0]\n",
    "labels=[1, 2, 3]"
   ]
  },
  {
   "cell_type": "code",
   "execution_count": 14,
   "id": "72fbae47",
   "metadata": {},
   "outputs": [
    {
     "name": "stdout",
     "output_type": "stream",
     "text": [
      "1:1 - 2\n",
      "2:3 - 16\n",
      "3:17 - 157\n"
     ]
    }
   ],
   "source": [
    "rfm['F'] = pd.cut(rfm['total_orders'], bins=bins, labels=labels)\n",
    "print(f'1:{rfm[rfm[\"F\"] == 1][\"total_orders\"].min()} - {rfm[rfm[\"F\"] == 1][\"total_orders\"].max()}')\n",
    "print(f'2:{rfm[rfm[\"F\"] == 2][\"total_orders\"].min()} - {rfm[rfm[\"F\"] == 2][\"total_orders\"].max()}')\n",
    "print(f'3:{rfm[rfm[\"F\"] == 3][\"total_orders\"].min()} - {rfm[rfm[\"F\"] == 3][\"total_orders\"].max()}')"
   ]
  },
  {
   "cell_type": "markdown",
   "id": "f868e753",
   "metadata": {},
   "source": [
    "### Monetary\n",
    "- сумма всех покупок\n",
    "- 1 — низкий чек, 2 — средний чек, 3 — высокий чек"
   ]
  },
  {
   "cell_type": "code",
   "execution_count": 15,
   "id": "6f2a45ba",
   "metadata": {},
   "outputs": [
    {
     "name": "stdout",
     "output_type": "stream",
     "text": [
      "1:0 - 300\n",
      "2:301 - 1000\n",
      "3:1003 - 1072500\n"
     ]
    }
   ],
   "source": [
    "rfm['M'] = pd.qcut(rfm['total_sum'], 3, labels=[1, 2, 3])\n",
    "print(f'1:{rfm[rfm[\"M\"] == 1][\"total_sum\"].min()} - {rfm[rfm[\"M\"] == 1][\"total_sum\"].max()}')\n",
    "print(f'2:{rfm[rfm[\"M\"] == 2][\"total_sum\"].min()} - {rfm[rfm[\"M\"] == 2][\"total_sum\"].max()}')\n",
    "print(f'3:{rfm[rfm[\"M\"] == 3][\"total_sum\"].min()} - {rfm[rfm[\"M\"] == 3][\"total_sum\"].max()}')"
   ]
  },
  {
   "cell_type": "markdown",
   "id": "c6c21190",
   "metadata": {},
   "source": [
    "### Итог"
   ]
  },
  {
   "cell_type": "code",
   "execution_count": 16,
   "id": "ebe3bf43",
   "metadata": {},
   "outputs": [],
   "source": [
    "rfm['RFM'] = rfm['R'].astype('string') + rfm['F'].astype('string') + rfm['M'].astype('string')"
   ]
  },
  {
   "cell_type": "code",
   "execution_count": 17,
   "id": "4e64e70a",
   "metadata": {
    "scrolled": false
   },
   "outputs": [
    {
     "data": {
      "text/html": [
       "<div>\n",
       "<style scoped>\n",
       "    .dataframe tbody tr th:only-of-type {\n",
       "        vertical-align: middle;\n",
       "    }\n",
       "\n",
       "    .dataframe tbody tr th {\n",
       "        vertical-align: top;\n",
       "    }\n",
       "\n",
       "    .dataframe thead th {\n",
       "        text-align: right;\n",
       "    }\n",
       "</style>\n",
       "<table border=\"1\" class=\"dataframe\">\n",
       "  <thead>\n",
       "    <tr style=\"text-align: right;\">\n",
       "      <th></th>\n",
       "      <th>mindbox_id</th>\n",
       "      <th>last_date</th>\n",
       "      <th>total_orders</th>\n",
       "      <th>total_sum</th>\n",
       "      <th>days_inactive</th>\n",
       "      <th>R</th>\n",
       "      <th>F</th>\n",
       "      <th>M</th>\n",
       "      <th>RFM</th>\n",
       "    </tr>\n",
       "  </thead>\n",
       "  <tbody>\n",
       "    <tr>\n",
       "      <th>0</th>\n",
       "      <td>2734</td>\n",
       "      <td>2021-10-14</td>\n",
       "      <td>2</td>\n",
       "      <td>51</td>\n",
       "      <td>887 days</td>\n",
       "      <td>1</td>\n",
       "      <td>1</td>\n",
       "      <td>1</td>\n",
       "      <td>111</td>\n",
       "    </tr>\n",
       "    <tr>\n",
       "      <th>1</th>\n",
       "      <td>2847</td>\n",
       "      <td>2023-12-15</td>\n",
       "      <td>3</td>\n",
       "      <td>1000</td>\n",
       "      <td>95 days</td>\n",
       "      <td>3</td>\n",
       "      <td>2</td>\n",
       "      <td>2</td>\n",
       "      <td>322</td>\n",
       "    </tr>\n",
       "    <tr>\n",
       "      <th>2</th>\n",
       "      <td>2861</td>\n",
       "      <td>2022-12-07</td>\n",
       "      <td>7</td>\n",
       "      <td>120</td>\n",
       "      <td>468 days</td>\n",
       "      <td>2</td>\n",
       "      <td>2</td>\n",
       "      <td>1</td>\n",
       "      <td>221</td>\n",
       "    </tr>\n",
       "    <tr>\n",
       "      <th>3</th>\n",
       "      <td>3361</td>\n",
       "      <td>2022-12-20</td>\n",
       "      <td>1</td>\n",
       "      <td>3000</td>\n",
       "      <td>455 days</td>\n",
       "      <td>2</td>\n",
       "      <td>1</td>\n",
       "      <td>3</td>\n",
       "      <td>213</td>\n",
       "    </tr>\n",
       "    <tr>\n",
       "      <th>4</th>\n",
       "      <td>4982</td>\n",
       "      <td>2024-02-13</td>\n",
       "      <td>11</td>\n",
       "      <td>840</td>\n",
       "      <td>35 days</td>\n",
       "      <td>3</td>\n",
       "      <td>2</td>\n",
       "      <td>2</td>\n",
       "      <td>322</td>\n",
       "    </tr>\n",
       "    <tr>\n",
       "      <th>...</th>\n",
       "      <td>...</td>\n",
       "      <td>...</td>\n",
       "      <td>...</td>\n",
       "      <td>...</td>\n",
       "      <td>...</td>\n",
       "      <td>...</td>\n",
       "      <td>...</td>\n",
       "      <td>...</td>\n",
       "      <td>...</td>\n",
       "    </tr>\n",
       "    <tr>\n",
       "      <th>18716</th>\n",
       "      <td>46782</td>\n",
       "      <td>2024-03-18</td>\n",
       "      <td>1</td>\n",
       "      <td>500</td>\n",
       "      <td>1 days</td>\n",
       "      <td>3</td>\n",
       "      <td>1</td>\n",
       "      <td>2</td>\n",
       "      <td>312</td>\n",
       "    </tr>\n",
       "    <tr>\n",
       "      <th>18717</th>\n",
       "      <td>46783</td>\n",
       "      <td>2024-03-18</td>\n",
       "      <td>1</td>\n",
       "      <td>120</td>\n",
       "      <td>1 days</td>\n",
       "      <td>3</td>\n",
       "      <td>1</td>\n",
       "      <td>1</td>\n",
       "      <td>311</td>\n",
       "    </tr>\n",
       "    <tr>\n",
       "      <th>18718</th>\n",
       "      <td>46784</td>\n",
       "      <td>2024-03-18</td>\n",
       "      <td>1</td>\n",
       "      <td>300</td>\n",
       "      <td>1 days</td>\n",
       "      <td>3</td>\n",
       "      <td>1</td>\n",
       "      <td>1</td>\n",
       "      <td>311</td>\n",
       "    </tr>\n",
       "    <tr>\n",
       "      <th>18719</th>\n",
       "      <td>46787</td>\n",
       "      <td>2024-03-18</td>\n",
       "      <td>1</td>\n",
       "      <td>300</td>\n",
       "      <td>1 days</td>\n",
       "      <td>3</td>\n",
       "      <td>1</td>\n",
       "      <td>1</td>\n",
       "      <td>311</td>\n",
       "    </tr>\n",
       "    <tr>\n",
       "      <th>18720</th>\n",
       "      <td>46789</td>\n",
       "      <td>2024-03-18</td>\n",
       "      <td>1</td>\n",
       "      <td>150</td>\n",
       "      <td>1 days</td>\n",
       "      <td>3</td>\n",
       "      <td>1</td>\n",
       "      <td>1</td>\n",
       "      <td>311</td>\n",
       "    </tr>\n",
       "  </tbody>\n",
       "</table>\n",
       "<p>18721 rows × 9 columns</p>\n",
       "</div>"
      ],
      "text/plain": [
       "       mindbox_id   last_date  total_orders  total_sum days_inactive  R  F  M  \\\n",
       "0            2734  2021-10-14             2         51      887 days  1  1  1   \n",
       "1            2847  2023-12-15             3       1000       95 days  3  2  2   \n",
       "2            2861  2022-12-07             7        120      468 days  2  2  1   \n",
       "3            3361  2022-12-20             1       3000      455 days  2  1  3   \n",
       "4            4982  2024-02-13            11        840       35 days  3  2  2   \n",
       "...           ...         ...           ...        ...           ... .. .. ..   \n",
       "18716       46782  2024-03-18             1        500        1 days  3  1  2   \n",
       "18717       46783  2024-03-18             1        120        1 days  3  1  1   \n",
       "18718       46784  2024-03-18             1        300        1 days  3  1  1   \n",
       "18719       46787  2024-03-18             1        300        1 days  3  1  1   \n",
       "18720       46789  2024-03-18             1        150        1 days  3  1  1   \n",
       "\n",
       "       RFM  \n",
       "0      111  \n",
       "1      322  \n",
       "2      221  \n",
       "3      213  \n",
       "4      322  \n",
       "...    ...  \n",
       "18716  312  \n",
       "18717  311  \n",
       "18718  311  \n",
       "18719  311  \n",
       "18720  311  \n",
       "\n",
       "[18721 rows x 9 columns]"
      ]
     },
     "execution_count": 17,
     "metadata": {},
     "output_type": "execute_result"
    }
   ],
   "source": [
    "rfm = rfm.reset_index()\n",
    "rfm"
   ]
  },
  {
   "cell_type": "markdown",
   "id": "e0a46eb4",
   "metadata": {},
   "source": [
    "Как читать:"
   ]
  },
  {
   "cell_type": "markdown",
   "id": "248dc964",
   "metadata": {},
   "source": [
    "|R - recency|F - frequency|M - monetary|\n",
    "|:--|:--|:--|\n",
    "|**1** - был более 572 дней назад|**1** - сделал более 16 покупок |**1** - заплатил менее 300 рублей за все время|\n",
    "|**2** - был от 170 до 571 дней назад|**2** - сделал от 3 до 16 покупок |**2** - заплатил от 301 до 1000 рублей за все время|\n",
    "|**3** - был менее 169 дней назад|**3** - делал менее 2 покупок |**3** - заплатил более 1001 рублей за все время|"
   ]
  },
  {
   "cell_type": "markdown",
   "metadata": {},
   "source": [
    "Например, 122 - это пользователь, который был более 572 дней назад, сделал от 3 до 16 покупок, заплатил от 301 до 1000руб за все время. Лучшие пользователи - которые были недавное, сделали много покупок и на большую сумму - это 313"
   ]
  },
  {
   "cell_type": "code",
   "execution_count": 18,
   "id": "22ba2235",
   "metadata": {},
   "outputs": [],
   "source": [
    "rfm_info = rfm.groupby('RFM').agg({'total_orders': 'mean',\n",
    "                        'days_inactive': 'mean',\n",
    "                        'total_sum': ['mean', 'sum'],\n",
    "                        'mindbox_id': 'nunique'})"
   ]
  },
  {
   "cell_type": "code",
   "execution_count": 19,
   "id": "287a9d17",
   "metadata": {},
   "outputs": [],
   "source": [
    "rfm_info.columns = [#'RFM',\n",
    "                    'mean_visits', 'mean_days_inactive', 'mean_order', 'total_sum', 'total_users']"
   ]
  },
  {
   "cell_type": "code",
   "execution_count": 20,
   "id": "a2fbdf38",
   "metadata": {
    "scrolled": true
   },
   "outputs": [
    {
     "data": {
      "text/html": [
       "<style type=\"text/css\">\n",
       "#T_af85a_row0_col4, #T_af85a_row2_col1, #T_af85a_row7_col0, #T_af85a_row7_col2, #T_af85a_row22_col3 {\n",
       "  background-color: forestgreen;\n",
       "}\n",
       "</style>\n",
       "<table id=\"T_af85a\">\n",
       "  <thead>\n",
       "    <tr>\n",
       "      <th class=\"blank level0\" >&nbsp;</th>\n",
       "      <th id=\"T_af85a_level0_col0\" class=\"col_heading level0 col0\" >mean_visits</th>\n",
       "      <th id=\"T_af85a_level0_col1\" class=\"col_heading level0 col1\" >mean_days_inactive</th>\n",
       "      <th id=\"T_af85a_level0_col2\" class=\"col_heading level0 col2\" >mean_order</th>\n",
       "      <th id=\"T_af85a_level0_col3\" class=\"col_heading level0 col3\" >total_sum</th>\n",
       "      <th id=\"T_af85a_level0_col4\" class=\"col_heading level0 col4\" >total_users</th>\n",
       "    </tr>\n",
       "    <tr>\n",
       "      <th class=\"index_name level0\" >RFM</th>\n",
       "      <th class=\"blank col0\" >&nbsp;</th>\n",
       "      <th class=\"blank col1\" >&nbsp;</th>\n",
       "      <th class=\"blank col2\" >&nbsp;</th>\n",
       "      <th class=\"blank col3\" >&nbsp;</th>\n",
       "      <th class=\"blank col4\" >&nbsp;</th>\n",
       "    </tr>\n",
       "  </thead>\n",
       "  <tbody>\n",
       "    <tr>\n",
       "      <th id=\"T_af85a_level0_row0\" class=\"row_heading level0 row0\" >111</th>\n",
       "      <td id=\"T_af85a_row0_col0\" class=\"data row0 col0\" >1,05</td>\n",
       "      <td id=\"T_af85a_row0_col1\" class=\"data row0 col1\" >776 days 07:54:45.523071504</td>\n",
       "      <td id=\"T_af85a_row0_col2\" class=\"data row0 col2\" >187,66</td>\n",
       "      <td id=\"T_af85a_row0_col3\" class=\"data row0 col3\" >532.774</td>\n",
       "      <td id=\"T_af85a_row0_col4\" class=\"data row0 col4\" >2.839</td>\n",
       "    </tr>\n",
       "    <tr>\n",
       "      <th id=\"T_af85a_level0_row1\" class=\"row_heading level0 row1\" >112</th>\n",
       "      <td id=\"T_af85a_row1_col0\" class=\"data row1 col0\" >1,11</td>\n",
       "      <td id=\"T_af85a_row1_col1\" class=\"data row1 col1\" >785 days 18:25:21.878862792</td>\n",
       "      <td id=\"T_af85a_row1_col2\" class=\"data row1 col2\" >677,15</td>\n",
       "      <td id=\"T_af85a_row1_col3\" class=\"data row1 col3\" >1.643.440</td>\n",
       "      <td id=\"T_af85a_row1_col4\" class=\"data row1 col4\" >2.427</td>\n",
       "    </tr>\n",
       "    <tr>\n",
       "      <th id=\"T_af85a_level0_row2\" class=\"row_heading level0 row2\" >113</th>\n",
       "      <td id=\"T_af85a_row2_col0\" class=\"data row2 col0\" >1,24</td>\n",
       "      <td id=\"T_af85a_row2_col1\" class=\"data row2 col1\" >834 days 15:01:30.150250416</td>\n",
       "      <td id=\"T_af85a_row2_col2\" class=\"data row2 col2\" >6.019,20</td>\n",
       "      <td id=\"T_af85a_row2_col3\" class=\"data row2 col3\" >3.605.499</td>\n",
       "      <td id=\"T_af85a_row2_col4\" class=\"data row2 col4\" >599</td>\n",
       "    </tr>\n",
       "    <tr>\n",
       "      <th id=\"T_af85a_level0_row3\" class=\"row_heading level0 row3\" >121</th>\n",
       "      <td id=\"T_af85a_row3_col0\" class=\"data row3 col0\" >4,26</td>\n",
       "      <td id=\"T_af85a_row3_col1\" class=\"data row3 col1\" >812 days 04:14:07.058823528</td>\n",
       "      <td id=\"T_af85a_row3_col2\" class=\"data row3 col2\" >193,50</td>\n",
       "      <td id=\"T_af85a_row3_col3\" class=\"data row3 col3\" >6.579</td>\n",
       "      <td id=\"T_af85a_row3_col4\" class=\"data row3 col4\" >34</td>\n",
       "    </tr>\n",
       "    <tr>\n",
       "      <th id=\"T_af85a_level0_row4\" class=\"row_heading level0 row4\" >122</th>\n",
       "      <td id=\"T_af85a_row4_col0\" class=\"data row4 col0\" >4,62</td>\n",
       "      <td id=\"T_af85a_row4_col1\" class=\"data row4 col1\" >801 days 14:00:00</td>\n",
       "      <td id=\"T_af85a_row4_col2\" class=\"data row4 col2\" >667,80</td>\n",
       "      <td id=\"T_af85a_row4_col3\" class=\"data row4 col3\" >72.122</td>\n",
       "      <td id=\"T_af85a_row4_col4\" class=\"data row4 col4\" >108</td>\n",
       "    </tr>\n",
       "    <tr>\n",
       "      <th id=\"T_af85a_level0_row5\" class=\"row_heading level0 row5\" >123</th>\n",
       "      <td id=\"T_af85a_row5_col0\" class=\"data row5 col0\" >5,82</td>\n",
       "      <td id=\"T_af85a_row5_col1\" class=\"data row5 col1\" >773 days 12:48:52.126696832</td>\n",
       "      <td id=\"T_af85a_row5_col2\" class=\"data row5 col2\" >8.121,92</td>\n",
       "      <td id=\"T_af85a_row5_col3\" class=\"data row5 col3\" >1.794.945</td>\n",
       "      <td id=\"T_af85a_row5_col4\" class=\"data row5 col4\" >221</td>\n",
       "    </tr>\n",
       "    <tr>\n",
       "      <th id=\"T_af85a_level0_row6\" class=\"row_heading level0 row6\" >131</th>\n",
       "      <td id=\"T_af85a_row6_col0\" class=\"data row6 col0\" >26,00</td>\n",
       "      <td id=\"T_af85a_row6_col1\" class=\"data row6 col1\" >650 days 00:00:00</td>\n",
       "      <td id=\"T_af85a_row6_col2\" class=\"data row6 col2\" >90,00</td>\n",
       "      <td id=\"T_af85a_row6_col3\" class=\"data row6 col3\" >90</td>\n",
       "      <td id=\"T_af85a_row6_col4\" class=\"data row6 col4\" >1</td>\n",
       "    </tr>\n",
       "    <tr>\n",
       "      <th id=\"T_af85a_level0_row7\" class=\"row_heading level0 row7\" >133</th>\n",
       "      <td id=\"T_af85a_row7_col0\" class=\"data row7 col0\" >36,50</td>\n",
       "      <td id=\"T_af85a_row7_col1\" class=\"data row7 col1\" >730 days 15:00:00</td>\n",
       "      <td id=\"T_af85a_row7_col2\" class=\"data row7 col2\" >42.050,00</td>\n",
       "      <td id=\"T_af85a_row7_col3\" class=\"data row7 col3\" >336.400</td>\n",
       "      <td id=\"T_af85a_row7_col4\" class=\"data row7 col4\" >8</td>\n",
       "    </tr>\n",
       "    <tr>\n",
       "      <th id=\"T_af85a_level0_row8\" class=\"row_heading level0 row8\" >211</th>\n",
       "      <td id=\"T_af85a_row8_col0\" class=\"data row8 col0\" >1,07</td>\n",
       "      <td id=\"T_af85a_row8_col1\" class=\"data row8 col1\" >332 days 06:57:49.806560136</td>\n",
       "      <td id=\"T_af85a_row8_col2\" class=\"data row8 col2\" >212,39</td>\n",
       "      <td id=\"T_af85a_row8_col3\" class=\"data row8 col3\" >505.067</td>\n",
       "      <td id=\"T_af85a_row8_col4\" class=\"data row8 col4\" >2.378</td>\n",
       "    </tr>\n",
       "    <tr>\n",
       "      <th id=\"T_af85a_level0_row9\" class=\"row_heading level0 row9\" >212</th>\n",
       "      <td id=\"T_af85a_row9_col0\" class=\"data row9 col0\" >1,20</td>\n",
       "      <td id=\"T_af85a_row9_col1\" class=\"data row9 col1\" >338 days 22:02:31.245725452</td>\n",
       "      <td id=\"T_af85a_row9_col2\" class=\"data row9 col2\" >624,32</td>\n",
       "      <td id=\"T_af85a_row9_col3\" class=\"data row9 col3\" >1.277.986</td>\n",
       "      <td id=\"T_af85a_row9_col4\" class=\"data row9 col4\" >2.047</td>\n",
       "    </tr>\n",
       "    <tr>\n",
       "      <th id=\"T_af85a_level0_row10\" class=\"row_heading level0 row10\" >213</th>\n",
       "      <td id=\"T_af85a_row10_col0\" class=\"data row10 col0\" >1,30</td>\n",
       "      <td id=\"T_af85a_row10_col1\" class=\"data row10 col1\" >347 days 23:00:37.113402060</td>\n",
       "      <td id=\"T_af85a_row10_col2\" class=\"data row10 col2\" >3.260,96</td>\n",
       "      <td id=\"T_af85a_row10_col3\" class=\"data row10 col3\" >2.846.814</td>\n",
       "      <td id=\"T_af85a_row10_col4\" class=\"data row10 col4\" >873</td>\n",
       "    </tr>\n",
       "    <tr>\n",
       "      <th id=\"T_af85a_level0_row11\" class=\"row_heading level0 row11\" >221</th>\n",
       "      <td id=\"T_af85a_row11_col0\" class=\"data row11 col0\" >3,62</td>\n",
       "      <td id=\"T_af85a_row11_col1\" class=\"data row11 col1\" >342 days 17:27:16.363636364</td>\n",
       "      <td id=\"T_af85a_row11_col2\" class=\"data row11 col2\" >225,33</td>\n",
       "      <td id=\"T_af85a_row11_col3\" class=\"data row11 col3\" >14.872</td>\n",
       "      <td id=\"T_af85a_row11_col4\" class=\"data row11 col4\" >66</td>\n",
       "    </tr>\n",
       "    <tr>\n",
       "      <th id=\"T_af85a_level0_row12\" class=\"row_heading level0 row12\" >222</th>\n",
       "      <td id=\"T_af85a_row12_col0\" class=\"data row12 col0\" >4,30</td>\n",
       "      <td id=\"T_af85a_row12_col1\" class=\"data row12 col1\" >343 days 16:54:51.428571428</td>\n",
       "      <td id=\"T_af85a_row12_col2\" class=\"data row12 col2\" >687,95</td>\n",
       "      <td id=\"T_af85a_row12_col3\" class=\"data row12 col3\" >144.470</td>\n",
       "      <td id=\"T_af85a_row12_col4\" class=\"data row12 col4\" >210</td>\n",
       "    </tr>\n",
       "    <tr>\n",
       "      <th id=\"T_af85a_level0_row13\" class=\"row_heading level0 row13\" >223</th>\n",
       "      <td id=\"T_af85a_row13_col0\" class=\"data row13 col0\" >5,95</td>\n",
       "      <td id=\"T_af85a_row13_col1\" class=\"data row13 col1\" >332 days 21:02:53.262032084</td>\n",
       "      <td id=\"T_af85a_row13_col2\" class=\"data row13 col2\" >5.141,71</td>\n",
       "      <td id=\"T_af85a_row13_col3\" class=\"data row13 col3\" >2.884.497</td>\n",
       "      <td id=\"T_af85a_row13_col4\" class=\"data row13 col4\" >561</td>\n",
       "    </tr>\n",
       "    <tr>\n",
       "      <th id=\"T_af85a_level0_row14\" class=\"row_heading level0 row14\" >231</th>\n",
       "      <td id=\"T_af85a_row14_col0\" class=\"data row14 col0\" >28,50</td>\n",
       "      <td id=\"T_af85a_row14_col1\" class=\"data row14 col1\" >485 days 12:00:00</td>\n",
       "      <td id=\"T_af85a_row14_col2\" class=\"data row14 col2\" >231,00</td>\n",
       "      <td id=\"T_af85a_row14_col3\" class=\"data row14 col3\" >462</td>\n",
       "      <td id=\"T_af85a_row14_col4\" class=\"data row14 col4\" >2</td>\n",
       "    </tr>\n",
       "    <tr>\n",
       "      <th id=\"T_af85a_level0_row15\" class=\"row_heading level0 row15\" >232</th>\n",
       "      <td id=\"T_af85a_row15_col0\" class=\"data row15 col0\" >23,00</td>\n",
       "      <td id=\"T_af85a_row15_col1\" class=\"data row15 col1\" >307 days 08:00:00</td>\n",
       "      <td id=\"T_af85a_row15_col2\" class=\"data row15 col2\" >683,67</td>\n",
       "      <td id=\"T_af85a_row15_col3\" class=\"data row15 col3\" >2.051</td>\n",
       "      <td id=\"T_af85a_row15_col4\" class=\"data row15 col4\" >3</td>\n",
       "    </tr>\n",
       "    <tr>\n",
       "      <th id=\"T_af85a_level0_row16\" class=\"row_heading level0 row16\" >233</th>\n",
       "      <td id=\"T_af85a_row16_col0\" class=\"data row16 col0\" >22,62</td>\n",
       "      <td id=\"T_af85a_row16_col1\" class=\"data row16 col1\" >416 days 14:43:57.623762376</td>\n",
       "      <td id=\"T_af85a_row16_col2\" class=\"data row16 col2\" >16.608,31</td>\n",
       "      <td id=\"T_af85a_row16_col3\" class=\"data row16 col3\" >1.677.439</td>\n",
       "      <td id=\"T_af85a_row16_col4\" class=\"data row16 col4\" >101</td>\n",
       "    </tr>\n",
       "    <tr>\n",
       "      <th id=\"T_af85a_level0_row17\" class=\"row_heading level0 row17\" >311</th>\n",
       "      <td id=\"T_af85a_row17_col0\" class=\"data row17 col0\" >1,09</td>\n",
       "      <td id=\"T_af85a_row17_col1\" class=\"data row17 col1\" >63 days 18:43:16.786703601</td>\n",
       "      <td id=\"T_af85a_row17_col2\" class=\"data row17 col2\" >214,78</td>\n",
       "      <td id=\"T_af85a_row17_col3\" class=\"data row17 col3\" >387.676</td>\n",
       "      <td id=\"T_af85a_row17_col4\" class=\"data row17 col4\" >1.805</td>\n",
       "    </tr>\n",
       "    <tr>\n",
       "      <th id=\"T_af85a_level0_row18\" class=\"row_heading level0 row18\" >312</th>\n",
       "      <td id=\"T_af85a_row18_col0\" class=\"data row18 col0\" >1,32</td>\n",
       "      <td id=\"T_af85a_row18_col1\" class=\"data row18 col1\" >62 days 04:44:05.278137128</td>\n",
       "      <td id=\"T_af85a_row18_col2\" class=\"data row18 col2\" >619,76</td>\n",
       "      <td id=\"T_af85a_row18_col3\" class=\"data row18 col3\" >958.149</td>\n",
       "      <td id=\"T_af85a_row18_col4\" class=\"data row18 col4\" >1.546</td>\n",
       "    </tr>\n",
       "    <tr>\n",
       "      <th id=\"T_af85a_level0_row19\" class=\"row_heading level0 row19\" >313</th>\n",
       "      <td id=\"T_af85a_row19_col0\" class=\"data row19 col0\" >1,30</td>\n",
       "      <td id=\"T_af85a_row19_col1\" class=\"data row19 col1\" >67 days 09:14:54.267515924</td>\n",
       "      <td id=\"T_af85a_row19_col2\" class=\"data row19 col2\" >3.371,12</td>\n",
       "      <td id=\"T_af85a_row19_col3\" class=\"data row19 col3\" >2.117.064</td>\n",
       "      <td id=\"T_af85a_row19_col4\" class=\"data row19 col4\" >628</td>\n",
       "    </tr>\n",
       "    <tr>\n",
       "      <th id=\"T_af85a_level0_row20\" class=\"row_heading level0 row20\" >321</th>\n",
       "      <td id=\"T_af85a_row20_col0\" class=\"data row20 col0\" >4,08</td>\n",
       "      <td id=\"T_af85a_row20_col1\" class=\"data row20 col1\" >52 days 15:00:00</td>\n",
       "      <td id=\"T_af85a_row20_col2\" class=\"data row20 col2\" >208,50</td>\n",
       "      <td id=\"T_af85a_row20_col3\" class=\"data row20 col3\" >21.684</td>\n",
       "      <td id=\"T_af85a_row20_col4\" class=\"data row20 col4\" >104</td>\n",
       "    </tr>\n",
       "    <tr>\n",
       "      <th id=\"T_af85a_level0_row21\" class=\"row_heading level0 row21\" >322</th>\n",
       "      <td id=\"T_af85a_row21_col0\" class=\"data row21 col0\" >5,04</td>\n",
       "      <td id=\"T_af85a_row21_col1\" class=\"data row21 col1\" >52 days 01:38:49.411764706</td>\n",
       "      <td id=\"T_af85a_row21_col2\" class=\"data row21 col2\" >675,16</td>\n",
       "      <td id=\"T_af85a_row21_col3\" class=\"data row21 col3\" >275.466</td>\n",
       "      <td id=\"T_af85a_row21_col4\" class=\"data row21 col4\" >408</td>\n",
       "    </tr>\n",
       "    <tr>\n",
       "      <th id=\"T_af85a_level0_row22\" class=\"row_heading level0 row22\" >323</th>\n",
       "      <td id=\"T_af85a_row22_col0\" class=\"data row22 col0\" >7,51</td>\n",
       "      <td id=\"T_af85a_row22_col1\" class=\"data row22 col1\" >51 days 02:03:38.844984802</td>\n",
       "      <td id=\"T_af85a_row22_col2\" class=\"data row22 col2\" >6.889,05</td>\n",
       "      <td id=\"T_af85a_row22_col3\" class=\"data row22 col3\" >9.065.991</td>\n",
       "      <td id=\"T_af85a_row22_col4\" class=\"data row22 col4\" >1.316</td>\n",
       "    </tr>\n",
       "    <tr>\n",
       "      <th id=\"T_af85a_level0_row23\" class=\"row_heading level0 row23\" >331</th>\n",
       "      <td id=\"T_af85a_row23_col0\" class=\"data row23 col0\" >33,67</td>\n",
       "      <td id=\"T_af85a_row23_col1\" class=\"data row23 col1\" >30 days 08:00:00</td>\n",
       "      <td id=\"T_af85a_row23_col2\" class=\"data row23 col2\" >227,00</td>\n",
       "      <td id=\"T_af85a_row23_col3\" class=\"data row23 col3\" >681</td>\n",
       "      <td id=\"T_af85a_row23_col4\" class=\"data row23 col4\" >3</td>\n",
       "    </tr>\n",
       "    <tr>\n",
       "      <th id=\"T_af85a_level0_row24\" class=\"row_heading level0 row24\" >332</th>\n",
       "      <td id=\"T_af85a_row24_col0\" class=\"data row24 col0\" >23,25</td>\n",
       "      <td id=\"T_af85a_row24_col1\" class=\"data row24 col1\" >13 days 16:00:00</td>\n",
       "      <td id=\"T_af85a_row24_col2\" class=\"data row24 col2\" >766,33</td>\n",
       "      <td id=\"T_af85a_row24_col3\" class=\"data row24 col3\" >9.196</td>\n",
       "      <td id=\"T_af85a_row24_col4\" class=\"data row24 col4\" >12</td>\n",
       "    </tr>\n",
       "    <tr>\n",
       "      <th id=\"T_af85a_level0_row25\" class=\"row_heading level0 row25\" >333</th>\n",
       "      <td id=\"T_af85a_row25_col0\" class=\"data row25 col0\" >30,08</td>\n",
       "      <td id=\"T_af85a_row25_col1\" class=\"data row25 col1\" >26 days 09:17:31.781472684</td>\n",
       "      <td id=\"T_af85a_row25_col2\" class=\"data row25 col2\" >20.981,92</td>\n",
       "      <td id=\"T_af85a_row25_col3\" class=\"data row25 col3\" >8.833.390</td>\n",
       "      <td id=\"T_af85a_row25_col4\" class=\"data row25 col4\" >421</td>\n",
       "    </tr>\n",
       "  </tbody>\n",
       "</table>\n"
      ],
      "text/plain": [
       "<pandas.io.formats.style.Styler at 0x1b9acc1b290>"
      ]
     },
     "execution_count": 20,
     "metadata": {},
     "output_type": "execute_result"
    }
   ],
   "source": [
    "rfm_info.style.format(thousands='.', decimal=',', precision=2).highlight_max(color='forestgreen')"
   ]
  },
  {
   "cell_type": "markdown",
   "metadata": {},
   "source": [
    "Много пользователей, которые были давно, сделали много покупок на разные суммы. В целом, по части 1 уже знаем, что делать разовые пожертвования весьма популярно, поэтому тут так много пользователей. Также выбиваются 233 - те, кто сделал до 2 транзакций, но на крупные суммы.\n",
    "Немного беспокоят пользователи 113, которые давно были, часто и много платили. Они отсутствуют уже более 2 лет.\n",
    "Больше всего денег принесла 323 - недавно были, сделали от2 до 16 транзакций на сумму более 1тыс.\n",
    "И последнее 133 - были давно, заплатили не более пары раз но уже более 1001руб, у таких и среднее визитов весьма велика, и среднее 42тыс. \n"
   ]
  },
  {
   "cell_type": "markdown",
   "metadata": {},
   "source": [
    "## Проверка"
   ]
  },
  {
   "cell_type": "code",
   "execution_count": 21,
   "metadata": {},
   "outputs": [
    {
     "name": "stdout",
     "output_type": "stream",
     "text": [
      "Количество пользователей во всех сегментах: 18721 человек\n"
     ]
    },
    {
     "data": {
      "text/plain": [
       "True"
      ]
     },
     "execution_count": 21,
     "metadata": {},
     "output_type": "execute_result"
    }
   ],
   "source": [
    "print(f'Количество пользователей во всех сегментах: {rfm_info.total_users.sum()} человек')\n",
    "rfm_info.total_users.sum() == users"
   ]
  },
  {
   "cell_type": "code",
   "execution_count": 22,
   "metadata": {
    "scrolled": false
   },
   "outputs": [
    {
     "name": "stdout",
     "output_type": "stream",
     "text": [
      "Общая сумма пожертвований по всем сегментам: 39,014,804 рублей\n"
     ]
    },
    {
     "data": {
      "text/plain": [
       "True"
      ]
     },
     "execution_count": 22,
     "metadata": {},
     "output_type": "execute_result"
    }
   ],
   "source": [
    "print(f'Общая сумма пожертвований по всем сегментам: {rfm_info.total_sum.sum():,.0f} рублей')\n",
    "rfm_info.total_sum.sum() == prices"
   ]
  },
  {
   "cell_type": "markdown",
   "metadata": {},
   "source": [
    "## Аналитика"
   ]
  },
  {
   "cell_type": "code",
   "execution_count": 31,
   "metadata": {},
   "outputs": [
    {
     "data": {
      "image/png": "[encoded data removed]",
      "text/plain": [
       "<Figure size 600x600 with 1 Axes>"
      ]
     },
     "metadata": {},
     "output_type": "display_data"
    }
   ],
   "source": [
    "top = 5\n",
    "areas_df = rfm_info.sort_values(by='total_sum',ascending=False)['total_sum']\n",
    "other = areas_df[areas_df.values <= areas_df[top]].sum()\n",
    "areas_df = pd.concat([areas_df.head(top), pd.Series({'Другие': other})])\n",
    "\n",
    "explode = (0.1,) + (0,)*top #* (top - 1)\n",
    "# red color\n",
    "colors = ['crimson'] + ['#F25278','#F26878','#F27878','#F28878'] + ['lightgrey']\n",
    "\n",
    "plt.figure(figsize=(6, 6))\n",
    "areas_df.plot(kind='pie', autopct='%1.1f%%', startangle=90, colors = colors,\n",
    "            wedgeprops=dict(width=0.25), explode= explode)\n",
    "plt.title('Доля сегментов по объему пожертвований, %');"
   ]
  },
  {
   "cell_type": "code",
   "execution_count": 33,
   "metadata": {},
   "outputs": [],
   "source": [
    "rfm_graph = rfm_info.sort_values(by='total_sum',ascending=False).reset_index()"
   ]
  },
  {
   "cell_type": "code",
   "execution_count": 34,
   "metadata": {},
   "outputs": [
    {
     "data": {
      "image/png": "[encoded data removed]",
      "text/plain": [
       "<Figure size 1000x600 with 1 Axes>"
      ]
     },
     "metadata": {},
     "output_type": "display_data"
    }
   ],
   "source": [
    "plt.figure(figsize=(10, 6))\n",
    "\n",
    "bar_colors = ['lightgrey']  *  len(rfm_graph.RFM)\n",
    "for num in range(5):\n",
    "    bar_colors[num] = 'crimson'\n",
    "\n",
    "plt.title('Сумма пожертвований по сегментам, тыс. руб.')\n",
    "plt.bar(x=rfm_graph.RFM, height=rfm_graph.total_sum / 1000, color=bar_colors)\n",
    "\n",
    "for x, y, tex in zip(rfm_graph.RFM, rfm_graph.total_sum/1000, rfm_graph.total_sum/1000):\n",
    "    t = plt.text(x, y+50, int(tex),\n",
    "                 horizontalalignment='center',\n",
    "                 rotation='vertical',\n",
    "                 verticalalignment='bottom',\n",
    "                 fontdict={'color':'#373737', 'size': 10})\n",
    "\n",
    "ax = plt.gca()\n",
    "ax.get_yaxis().set_visible(False)\n",
    "\n",
    "tick_colors = ['#373737'] * len(rfm_graph.RFM)\n",
    "for num in range(5):\n",
    "    tick_colors[num] = 'crimson'\n",
    "for ticklabel, tickcolor in zip(plt.gca().get_xticklabels(), tick_colors):\n",
    "    ticklabel.set_color(tickcolor)\n",
    "\n",
    "plt.xticks(rotation=90)\n",
    "plt.ylim(0, 10100)\n",
    "plt.show();"
   ]
  },
  {
   "cell_type": "markdown",
   "metadata": {},
   "source": [
    "Больше всего приносят доход 323 и 333, суммарно занимая почти половину доходов. 3 основных сегмента уже составляют больше 50% всего дохода фонда."
   ]
  },
  {
   "cell_type": "code",
   "execution_count": null,
   "metadata": {},
   "outputs": [],
   "source": []
  }
 ],
 "metadata": {
  "colab": {
   "collapsed_sections": [
    "xdGhAXYvgqjg"
   ],
   "provenance": []
  },
  "kernelspec": {
   "display_name": "Python 3 (ipykernel)",
   "language": "python",
   "name": "python3"
  },
  "language_info": {
   "codemirror_mode": {
    "name": "ipython",
    "version": 3
   },
   "file_extension": ".py",
   "mimetype": "text/x-python",
   "name": "python",
   "nbconvert_exporter": "python",
   "pygments_lexer": "ipython3",
   "version": "3.11.3"
  },
  "toc": {
   "base_numbering": 1,
   "nav_menu": {},
   "number_sections": true,
   "sideBar": true,
   "skip_h1_title": false,
   "title_cell": "Table of Contents",
   "title_sidebar": "Contents",
   "toc_cell": false,
   "toc_position": {},
   "toc_section_display": true,
   "toc_window_display": true
  }
 },
 "nbformat": 4,
 "nbformat_minor": 1
}
